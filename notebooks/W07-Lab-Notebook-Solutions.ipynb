{
 "cells": [
  {
   "cell_type": "markdown",
   "metadata": {},
   "source": [
    "<font style='font-size:1.5em'>**✅ W07 Lab Solutions**</font><br>\n",
    "<font style='font-size:1.3em;color:#888888'>Normalising JSON + the Groupby -> Apply -> Combine Strategy </font>\n",
    "\n",
    "<font style='font-size:1.2em'>LSE [DS105A](https://lse-dsi.github.io/DS105/autumn-term/index.html){style=\"color:#e26a4f;font-weight:bold\"} – Data for Data Science (2024/25) </font>\n",
    "\n",
    "\n",
    "\n",
    "<div style=\"color: #333333; background-color:rgba(226, 106, 79, 0.075); border-radius: 10px; box-shadow: 0 4px 8px rgba(0, 0, 0, 0.1); padding: 20px 0 20px 10px; margin: 10px 0 10px 0; flex: 1 1 calc(45% - 20px);min-width: 250px;max-width: 350px;align-items:top;min-height: calc(45% - 20px); box-sizing: border-box;font-size:0.9em;\">\n",
    "\n",
    "🗓️ **DATE:** 15 November 2024 \n",
    "</div>\n",
    "\n",
    "\n",
    "**CREATORS:**  \n",
    "\n",
    "- [Alex Soldatkin](https://github.com/alex-soldatkin) provided the dataset, the use case and a starting code\n",
    "- Dr. [Jon Cardoso-Silva](https://jonjoncardoso.github.io) adjusted the content to meet the lecture more closely\n",
    "\n",
    "**DEPARTMENT:** [LSE Data Science Institute](https://lse.ac.uk/dsi)\n",
    "\n",
    "**OBJECTIVE**: Practice normalising JSON data and using the groupby -> apply -> combine strategy to aggregate data.\n",
    "\n",
    "**REFERENCES:**\n",
    "\n",
    "- The [`pd.json_normalize()` function](https://pandas.pydata.org/pandas-docs/stable/reference/api/pandas.json_normalize.html) to convert JSON data more easily into tabular format\n",
    "\n",
    "- The [DataFrame.explode()](https://pandas.pydata.org/pandas-docs/stable/reference/api/pandas.DataFrame.explode.html) function to handle cases when columns are made out of lists\n",
    "\n",
    "In the labs later (second notebook), we will also cover:\n",
    "\n",
    "- The [DataFrame.groupby()](https://pandas.pydata.org/pandas-docs/stable/reference/groupby.html) function, combined with apply() and agg() to aggregate data \n",
    "\n",
    "---\n",
    "\n",
    "<div style=\"background-color:white;padding:0.5em;margin-left:2em;margin-bottom:1em;border-radius:0.5em;font-family: monospace;border: 1px solid #eda291;font-size:1.05em;width:500px\">\n",
    "\n",
    "💽 **DATA SPECIFICATION CARD:**\n",
    "\n",
    "<font style=\"font-size:0.8em\">We're going to use data from the [OpenSanctions](https://www.opensanctions.org/) project. This dataset includes information about individuals and entities that governments and international organizations have sanctioned worldwide. OpenSanctions is operated by a German company, [OpenSanctions Datenbanken GmbH](https://www.opensanctions.org/docs/about/), and has received funding from the German Federal Ministry for Education and Research. They offer a paid API for accessing the data, but you can also download the [data in bulk](https://www.opensanctions.org/datasets/sanctions/) for free, for academic and research purposes.</font>\n",
    "\n",
    "A few things to know about the dataset:\n",
    "\n",
    "- **We are focusing on Targets.** These are the individuals and entities that have been sanctioned. This dataset includes information about the name, country, and other 'properties' of the targets.\n",
    "\n",
    "- **We have filtered for Russian Targets.** This in part because Alex, who provided us with the data sample for this lab, is doing a PhD where he focuses on studying Russia, and also because the dataset is large and we want to make it more manageable for this lab.\n",
    "\n",
    "- **We are using a small random sample.** Again, this is to make the dataset more manageable for this lab. The full dataset is much larger. \n",
    "\n",
    "</div>"
   ]
  },
  {
   "cell_type": "markdown",
   "metadata": {},
   "source": [
    "**WARNING:** You will need to install a new package before running this notebook.\n",
    "\n",
    "Either open a terminal and run:\n",
    "\n",
    "```bash\n",
    "pip install pycountry\n",
    "```\n",
    "\n",
    "or add a new Python cell and run:\n",
    "\n",
    "```python\n",
    "!pip install pycountry\n",
    "```\n",
    "\n",
    "(delete the cell after running it)"
   ]
  },
  {
   "cell_type": "code",
   "execution_count": null,
   "metadata": {},
   "outputs": [],
   "source": [
    "# To convert files to a suitable Python format (list or dictionary)\n",
    "import json\n",
    "import pycountry\n",
    "\n",
    "import numpy as np\n",
    "import pandas as pd\n",
    "\n",
    "from IPython.display import Image\n",
    "\n",
    "from lets_plot import *\n",
    "LetsPlot.setup_html()"
   ]
  },
  {
   "cell_type": "markdown",
   "metadata": {},
   "source": [
    "# 1. Let's normalise the JSON data\n",
    "\n",
    "- You can work alone or in small groups for this. \n",
    "\n",
    "- If you want, feel free to play a game of <span style=\"display: inline-block; padding: 0 7.5px; font-size: 12px; font-weight: bold; line-height: 18px; white-space: nowrap; border: 1px solid rgba(20, 18, 11, 0.75); border-radius: 0.5em; color: rgb(20, 18, 11); background-color: rgba(255, 255, 255, 0.75); vertical-align: top; box-shadow: 0 4px 8px rgba(0, 0, 0, 0.1)\"> 🧑‍✈️ Pilot</span> and <span style=\"display: inline-block; padding: 0 7.5px; font-size: 12px; font-weight: bold; line-height: 18px; white-space: nowrap; border: 1px solid rgba(20, 18, 11, 0.75); border-radius: 0.5em; color: #ac831d; background-color: rgba(255, 255, 255, 0.75); vertical-align: top; box-shadow: 0 4px 8px rgba(0, 0, 0, 0.1)\">🙋 Copilot (s)</span> like we've done in the past.\n",
    "\n",
    "Treat everything that comes below as 🎯 **ACTION POINTS:**\n"
   ]
  },
  {
   "cell_type": "markdown",
   "metadata": {},
   "source": [
    "## 1.1 Read JSON data into a Python object\n",
    "\n",
    "We have a JSON file called `data/sample_single_target.json` that contains information about a single target of sanctions.\n",
    "\n",
    "Run the code below that reads the data from the file into a suitable Python object (either list or dictionary):"
   ]
  },
  {
   "cell_type": "code",
   "execution_count": 2,
   "metadata": {},
   "outputs": [],
   "source": [
    "with open('../data/opensanctions/sample_single_target.json', mode='r') as file:\n",
    "    sample_target = json.load(file)"
   ]
  },
  {
   "cell_type": "markdown",
   "metadata": {},
   "source": [
    "## 1.2 Explore the JSON data:\n",
    "\n",
    "Either browse the file or print the object you read the JSON data into to understand its structure.\n",
    "\n",
    "**Questions:**\n",
    "\n",
    "1. What is the type of the object that you read the JSON data into?\n",
    "\n",
    "    My answer: \n",
    "\n",
    "    > **The `sample_single_target` object is a dictionary.**\n",
    "\n",
    "2. Is this a flat or nested JSON object?\n",
    "\n",
    "    My answer: \n",
    "\n",
    "    > **It's a very deeply nested JSON object.**\n",
    "\n",
    "3. Can this object be converted into a DataFrame directly (with `pd.DataFrame()`), or do we need to do some pre-processing first?\n",
    "\n",
    "    My answer: \n",
    "\n",
    "    > **No. Pandas cannot make sense of this object directly. It's very deeply nested and each of the sub-sub-keys have different lenghts. If you try to create a DataFrame from this object, you will get a `ValueError: All arrays must be of the same length`.**"
   ]
  },
  {
   "cell_type": "markdown",
   "metadata": {},
   "source": [
    "## 1.3 Normalise the JSON data\n",
    "\n",
    "- Convert the JSON data into a DataFrame using the `pd.json_normalize()` function.\n",
    "\n",
    "- Store the resulting DataFrame in a variable called `df_sample`.\n",
    "\n",
    "You should see something like this:"
   ]
  },
  {
   "cell_type": "code",
   "execution_count": 3,
   "metadata": {},
   "outputs": [],
   "source": [
    "# Uncomment the cell below to see what your DataFrame should look like\n",
    "# Image(\"../figures/opensanctions/df_sample_v1.png\")"
   ]
  },
  {
   "cell_type": "code",
   "execution_count": null,
   "metadata": {},
   "outputs": [],
   "source": [
    "# The json_normalize function is a good way to flatten nested dictionaries\n",
    "df_sample = pd.json_normalize(sample_target)\n",
    "df_sample"
   ]
  },
  {
   "cell_type": "markdown",
   "metadata": {},
   "source": [
    "## 1.4 Subset for the most interesting `properties` columns\n",
    "\n",
    "We want to focus on the following properties:\n",
    "\n",
    "| Property                  | Description                                                                                     | Type   |\n",
    "|---------------------------|-------------------------------------------------------------------------------------------------|--------|\n",
    "| `properties.alias`        | The different names that the target is known by.                                                | List   |\n",
    "| `properties.nationality`  | The nationality(ies) of the target.                                                             | List   |\n",
    "| `properties.birthCountry` | The country where the target was born. This is stored as a list but should have only one element.| List   |\n",
    "| `properties.sourceUrl`    | The URL where the information about the target was sourced from. This is stored as a list but should have only one element. | List   |\n",
    "| `properties.sanctions`    | The sanctions that the target is subject to.                                                    | List   |\n",
    "\n",
    "\n",
    "- Save the names of the columns above to a list called `interesting_columns`.\n",
    "\n",
    "- Subset the DataFrame to keep only the columns listed above.\n",
    "\n",
    "- Replace the `df_sample` variable with the new DataFrame that contains only the interesting columns.\n",
    "\n",
    "💡 **TIP:** If you have GitHub Copilot installed on your machine, try adding the instructions above to the AI and see if it produces the output you want."
   ]
  },
  {
   "cell_type": "code",
   "execution_count": 5,
   "metadata": {},
   "outputs": [],
   "source": [
    "# Uncomment the cell below to see what your DataFrame should look like\n",
    "# Image(\"../figures/opensanctions/df_sample_v2.png\")"
   ]
  },
  {
   "cell_type": "code",
   "execution_count": null,
   "metadata": {},
   "outputs": [],
   "source": [
    "# Specify the columns in a list\n",
    "interesting_properties = ['properties.alias', 'properties.nationality', \n",
    "                       'properties.birthCountry',\n",
    "                       'properties.sourceUrl', 'properties.sanctions']\n",
    "\n",
    "# Filter the DataFrame to only include the columns in the list\n",
    "# Because we're creating a shorter DataFrame, \n",
    "# it is best practice to create a copy of the DataFrame\n",
    "df_sample = df_sample[interesting_properties].copy()\n",
    "df_sample"
   ]
  },
  {
   "cell_type": "markdown",
   "metadata": {},
   "source": [
    "## 1.5 Rename the columns\n",
    "\n",
    "Let's get rid of the `properties.` prefix in the column names.\n",
    "\n",
    "If you created the `interesting_columns` list and the `df_sample` correctly, you can run the code below to rename the columns. \n",
    "\n",
    "Cut this piece of code and paste it in the cell below:\n",
    "\n",
    "```python\n",
    "new_column_names = [col.split('.')[1] for col in interesting_properties]\n",
    "\n",
    "# Here's a new way to rename columns\n",
    "df_sample.columns = new_column_names\n",
    "```"
   ]
  },
  {
   "cell_type": "code",
   "execution_count": null,
   "metadata": {},
   "outputs": [],
   "source": [
    "new_column_names = [col.split('.')[1] for col in interesting_properties]\n",
    "\n",
    "# Here's a new way to rename columns\n",
    "df_sample.columns = new_column_names\n",
    "\n",
    "# Yeah, that worked!\n",
    "df_sample"
   ]
  },
  {
   "cell_type": "markdown",
   "metadata": {},
   "source": [
    "## 🏆 1.6 String Manipulation (Don't explode anything just yet)\n",
    "\n",
    "We are interested in understanding which countries/entities have imposed sanctions on the target. This means the only column we want to explode is the `properties.sanctions` column. \n",
    "\n",
    "All the other columns, despite being lists, should not be exploded. It makes a lot more sense to just convert them to meaningful strings.\n",
    "\n",
    "We can use the `apply()` function on each of these columns to convert the lists into strings.\n",
    "\n",
    "Here's, for example, how I would convert the `birth_country` column from a list to a string:\n",
    "\n",
    "```python\n",
    "# Because I know the `birthCountry` column is a list that has just a single element, \n",
    "# I can extract it directly like this.\n",
    "# Run it and check the result before assigning it back to the column\n",
    "df_sample['birthCountry'].apply(lambda x: x[0])\n",
    "\n",
    "# To make this change permanent, assign it back to the column\n",
    "df_sample['birthCountry'] = df_sample['birthCountry'].apply(lambda x: x[0])\n",
    "\n",
    "```\n"
   ]
  },
  {
   "cell_type": "code",
   "execution_count": 8,
   "metadata": {},
   "outputs": [],
   "source": [
    "# Birth country is easy\n",
    "df_sample['birthCountry'] = df_sample['birthCountry'].apply(lambda x: x[0])"
   ]
  },
  {
   "cell_type": "code",
   "execution_count": 9,
   "metadata": {},
   "outputs": [],
   "source": [
    "# Alias is also easy to handle\n",
    "df_sample['alias'] = df_sample['alias'].apply(lambda x: x[0])"
   ]
  },
  {
   "cell_type": "code",
   "execution_count": 10,
   "metadata": {},
   "outputs": [],
   "source": [
    "# It's the same code as above, but with a different column name\n",
    "# I wonder if should have used a function instead of repeating the code\n",
    "df_sample['sourceUrl'] = df_sample['sourceUrl'].apply(lambda x: x[0])"
   ]
  },
  {
   "cell_type": "code",
   "execution_count": 11,
   "metadata": {},
   "outputs": [],
   "source": [
    "#We use the \", \".join() function to convert the list of nationalities to a single string that separates all the nationalities with a comma and a space\n",
    "df_sample['nationality'] = df_sample['nationality'].apply(lambda x: \", \".join(x))"
   ]
  },
  {
   "cell_type": "code",
   "execution_count": null,
   "metadata": {},
   "outputs": [],
   "source": [
    "df_sample"
   ]
  },
  {
   "cell_type": "code",
   "execution_count": 13,
   "metadata": {},
   "outputs": [],
   "source": [
    "# Uncomment the cell below to see what your DataFrame should look like\n",
    "# Image(\"../figures/opensanctions/df_sample_v3.png\")"
   ]
  },
  {
   "cell_type": "markdown",
   "metadata": {},
   "source": [
    "## 1.7 Explode the columns\n",
    "\n",
    "- Use the [DataFrame.explode()](https://pandas.pydata.org/pandas-docs/stable/reference/api/pandas.DataFrame.explode.html) function to explode the `sanctions` column."
   ]
  },
  {
   "cell_type": "code",
   "execution_count": 14,
   "metadata": {},
   "outputs": [],
   "source": [
    "# Uncomment the cell below to see what your DataFrame should look like\n",
    "# Image(\"../figures/opensanctions/df_sample_v4.png\")"
   ]
  },
  {
   "cell_type": "code",
   "execution_count": 15,
   "metadata": {},
   "outputs": [],
   "source": [
    "# That was easy\n",
    "df_sample = df_sample.explode('sanctions')"
   ]
  },
  {
   "cell_type": "markdown",
   "metadata": {},
   "source": [
    "Just notice that because all the new rows came from the same original row, all the scalar values in the other columns will be repeated. **This also applies to the Index.**"
   ]
  },
  {
   "cell_type": "code",
   "execution_count": null,
   "metadata": {},
   "outputs": [],
   "source": [
    "df_sample"
   ]
  },
  {
   "cell_type": "markdown",
   "metadata": {},
   "source": [
    "**Not part of the original instructions, but I recommend you to reset the index after exploding the DataFrame.**"
   ]
  },
  {
   "cell_type": "code",
   "execution_count": 17,
   "metadata": {},
   "outputs": [],
   "source": [
    "# What do you think drop=True does?\n",
    "# You can try to use your favourite GenAI tool to find out\n",
    "# or ask us, humans, in the Slack channel\n",
    "df_sample = df_sample.reset_index(drop=True)"
   ]
  },
  {
   "cell_type": "markdown",
   "metadata": {},
   "source": [
    "# 1.8. See the solution\n",
    "\n",
    "Putting it all together, here's what the solution would look like if you were to use method-chaining:\n",
    "\n",
    "<details><summary>Click HERE for the solution</summary>\n",
    "\n",
    "```python\n",
    "interesting_columns = ['properties.alias', \n",
    "                       'properties.nationality', \n",
    "                       'properties.birthCountry', \n",
    "                       'properties.sourceUrl', \n",
    "                       'properties.sanctions']\n",
    "\n",
    "with open('../data/opensanctions/sample_single_target.json', mode='r') as file:\n",
    "    sample_target = json.load(file)\n",
    "\n",
    "df_sample = (\n",
    "    pd.json_normalize(sample_target)\n",
    "    [interesting_columns]\n",
    "    .rename(columns={\n",
    "        'properties.alias': 'alias',\n",
    "        'properties.nationality': 'nationality',\n",
    "        'properties.birthCountry': 'birthCountry',\n",
    "        'properties.sourceUrl': 'sourceUrl',\n",
    "        'properties.sanctions': 'sanctions'\n",
    "    })\n",
    "    .assign(\n",
    "        alias=lambda x: x['alias'].apply(lambda x: x[0]),\n",
    "        sourceUrl=lambda x: x['sourceUrl'].apply(lambda x: x[0]),\n",
    "        nationality=lambda x: x['nationality'].apply(lambda x: \", \".join(x)),\n",
    "        birthCountry=lambda x: x['birthCountry'].apply(lambda x: x[0])\n",
    "    )\n",
    "    .explode('sanctions')\n",
    "    .reset_index(drop=True)\n",
    ")\n",
    "\n",
    "df_sample\n",
    "```"
   ]
  },
  {
   "cell_type": "markdown",
   "metadata": {},
   "source": [
    "# 2. Unnest the `sanctions` column\n",
    "\n",
    "We have a lot of stuff but our `sanctions` column is still nested.\n",
    "\n",
    "We can't explode it, as the data inside is not a list, but a dictionary.\n",
    "\n",
    "Give it a go:\n",
    "\n",
    "```python\n",
    "# This won't work. Explode only works with lists\n",
    "df_sample.explode('sanctions')\n",
    "```\n",
    "\n",
    "We need to:\n",
    "\n",
    "- Keep the other columns as they are\n",
    "- Work separately on the `sanctions` column, using the `pd.json_normalize()` function to normalise the data inside it.\n",
    "- Concatenate the resulting DataFrame with the original one, keeping the index aligned."
   ]
  },
  {
   "cell_type": "markdown",
   "metadata": {},
   "source": [
    "## 2.1 Convert the entire `sanctions` column into a DataFrame of its own\n",
    "\n",
    "For this to work, we first need to convert the 'sanctions' column back to a 'pure Python' list of dictionaries\n",
    "\n",
    "```python\n",
    "# You can normalise a pandas column when they are lists of dictionaries\n",
    "# json_normalise is not just for 'pure Python' lists of dictionaries\n",
    "pd.json_normalize(df_sample['sanctions'])\n",
    "```\n",
    "\n",
    "Copy the code above and paste it in the cell below to observe the output."
   ]
  },
  {
   "cell_type": "code",
   "execution_count": null,
   "metadata": {},
   "outputs": [],
   "source": [
    "# Your code here\n",
    "pd.json_normalize(df_sample['sanctions'])"
   ]
  },
  {
   "cell_type": "markdown",
   "metadata": {},
   "source": [
    "From the resulting DataFrame above, we definitely want the `properties.country` (renamed to just `sanction_country`), but we want it as a string, not as a list.\n",
    "\n",
    "Figure out how to create this column and add it to the DataFrame."
   ]
  },
  {
   "cell_type": "markdown",
   "metadata": {},
   "source": [
    "**Let me do this step by step:**"
   ]
  },
  {
   "cell_type": "code",
   "execution_count": null,
   "metadata": {},
   "outputs": [],
   "source": [
    "# Let me look at just the 'properties.country' column\n",
    "pd.json_normalize(df_sample['sanctions'])['properties.country']"
   ]
  },
  {
   "cell_type": "markdown",
   "metadata": {},
   "source": [
    "**After this, I would be able to do the same thing I've done with the 'birthCountry' column.**\n",
    "\n",
    "That is:"
   ]
  },
  {
   "cell_type": "code",
   "execution_count": null,
   "metadata": {},
   "outputs": [],
   "source": [
    "(\n",
    "    pd.json_normalize(df_sample['sanctions'])['properties.country']\n",
    "    .apply(lambda x: x[0])\n",
    ")"
   ]
  },
  {
   "cell_type": "code",
   "execution_count": 21,
   "metadata": {},
   "outputs": [],
   "source": [
    "# Then I can just assign the result to a new column\n",
    "df_sample['sanctions_country'] = (\n",
    "    pd.json_normalize(df_sample['sanctions'])['properties.country']\n",
    "    .apply(lambda x: x[0])\n",
    ")"
   ]
  },
  {
   "cell_type": "code",
   "execution_count": null,
   "metadata": {},
   "outputs": [],
   "source": [
    "df_sample"
   ]
  },
  {
   "cell_type": "markdown",
   "metadata": {},
   "source": [
    "I don't need the `sanctions` column anymore, so I can drop it.\n"
   ]
  },
  {
   "cell_type": "code",
   "execution_count": 23,
   "metadata": {},
   "outputs": [],
   "source": [
    "df_sample = df_sample.drop(columns='sanctions').copy()"
   ]
  },
  {
   "cell_type": "code",
   "execution_count": null,
   "metadata": {},
   "outputs": [],
   "source": [
    "df_sample"
   ]
  },
  {
   "cell_type": "code",
   "execution_count": 25,
   "metadata": {},
   "outputs": [],
   "source": [
    "## Uncomment the cell below to see what your DataFrame should look like\n",
    "# Image(\"../figures/opensanctions/df_sample_v5.png\")"
   ]
  },
  {
   "cell_type": "markdown",
   "metadata": {},
   "source": [
    "# 3. A larger dataset\n",
    "\n",
    "Let's use a much larger dataset now. Small tweaks to the code are necessary, as some of the data is missing plus we have more than one target."
   ]
  },
  {
   "cell_type": "code",
   "execution_count": null,
   "metadata": {},
   "outputs": [],
   "source": [
    "# This is a list of JSON objects (each element is a JSON object like the sample we've used above)\n",
    "df_targets = pd.read_json('../data/opensanctions/targets_sample_4000.jsonl', lines=True)\n",
    "df_targets.head()"
   ]
  },
  {
   "cell_type": "markdown",
   "metadata": {},
   "source": [
    "Just like before, we just care about the 'properties' columns, but this time we have a lot more data:"
   ]
  },
  {
   "cell_type": "code",
   "execution_count": null,
   "metadata": {},
   "outputs": [],
   "source": [
    "df_targets['properties'].head()"
   ]
  },
  {
   "cell_type": "markdown",
   "metadata": {},
   "source": [
    "We can normalise the 'properties' column and work with the resulting DataFrame.\n"
   ]
  },
  {
   "cell_type": "code",
   "execution_count": null,
   "metadata": {},
   "outputs": [],
   "source": [
    "interesting_columns = ['alias', 'nationality', 'birthCountry', 'sourceUrl', 'sanctions']\n",
    "pd.json_normalize(df_targets['properties'])[interesting_columns]"
   ]
  },
  {
   "cell_type": "markdown",
   "metadata": {},
   "source": [
    "☝️ Notice how this time around there are some NaN values in the DataFrame. This is because some of the 'properties' columns are missing in some of the rows.\n",
    "\n",
    "We need to consider this when we normalise the data!\n",
    "\n",
    "Your task now is to **understand everything the code below does** and then **run it**.\n"
   ]
  },
  {
   "cell_type": "code",
   "execution_count": null,
   "metadata": {},
   "outputs": [],
   "source": [
    "# I will read this first, outside the method chain, so it's easier to see what's happening\n",
    "df_targets = pd.read_json('../data/opensanctions/targets_sample_4000.jsonl', lines=True)\n",
    "\n",
    "# I will also leave this outside the method chain, so it's easier to see what's happening\n",
    "interesting_columns = ['alias', 'nationality', 'birthCountry', 'sourceUrl', 'sanctions']\n",
    "df_targets = pd.json_normalize(df_targets['properties'])[interesting_columns]\n",
    "\n",
    "# Have you seen the assign() method before? It's a very useful method to add new columns to a DataFrame\n",
    "# Do you see what we're doing differently here?\n",
    "df_targets = (\n",
    "    df_targets\n",
    "    .assign(\n",
    "        alias=lambda x: x['alias'].apply(lambda x: x[0] if isinstance(x, list) else None),\n",
    "        sourceUrl=lambda x: x['sourceUrl'].apply(lambda x: x[0] if isinstance(x, list) else None),\n",
    "        nationality=lambda x: x['nationality'].apply(lambda x: \", \".join(x) if isinstance(x, list) else None),\n",
    "        birthCountry=lambda x: x['birthCountry'].apply(lambda x: x[0] if isinstance(x, list) else None)\n",
    "    )\n",
    "    .explode('sanctions')\n",
    ")\n",
    "\n",
    "# Here's another way to add the 'sanction_country' column\n",
    "sanction_country = pd.json_normalize(df_targets['sanctions'])['properties.country']\n",
    "sanction_country = sanction_country.apply(lambda x: x[0] if isinstance(x, list) else None).tolist()\n",
    "df_targets['sanction_country'] = sanction_country\n",
    "\n",
    "df_targets = df_targets.drop(columns='sanctions')\n",
    "\n",
    "df_targets"
   ]
  },
  {
   "cell_type": "markdown",
   "metadata": {},
   "source": [
    "# 4. Groupby -> Apply -> Combine"
   ]
  },
  {
   "cell_type": "markdown",
   "metadata": {},
   "source": [
    "Write code to group the data by the `sanction_country` column and count the number of sanctions imposed by each country."
   ]
  },
  {
   "cell_type": "markdown",
   "metadata": {},
   "source": [
    "**This could be seen as a task to the `value_counts()`:**"
   ]
  },
  {
   "cell_type": "code",
   "execution_count": null,
   "metadata": {},
   "outputs": [],
   "source": [
    "# How many sanctions did each country impose on targets?\n",
    "df_targets['sanction_country'].value_counts()"
   ]
  },
  {
   "cell_type": "markdown",
   "metadata": {},
   "source": [
    "<span style=\"display:block;background-color:rgba(93, 158, 188, 0.1);padding:0.5em;font-size:1.05em;margin-left:0em;margin-bottom:1em;border-radius:0.5em;\">🤔 **BUT think about it:** Each target might have been sanctioned by many organisations within the same country. We don't know if Ukraine (`ua`) sanctioned 2420 targets or if all of those sanctions were placed by many Ukranian organisations on a single target. </span>"
   ]
  },
  {
   "cell_type": "markdown",
   "metadata": {},
   "source": [
    "## 4.1 Asking better questions\n",
    "\n",
    "**You should always critically evaluate the results you get from your code and reformulate your questions if necessary.**\n",
    "\n",
    "Let's do that.\n",
    "\n",
    "What if our question now was:\n",
    "\n",
    "> **How many targets were sanctioned by each country?**\n",
    "\n",
    "A good way to answer this question is to group the data by the `sanction_country` column and count the number of unique targets in each group."
   ]
  },
  {
   "cell_type": "code",
   "execution_count": null,
   "metadata": {},
   "outputs": [],
   "source": [
    "# Group by 'sanction_country' \n",
    "# and count the number of unique/distinct 'alias', \n",
    "# it doesn't matter how many sanctions each country imposed on each target\n",
    "df_targets.groupby(['sanction_country']).agg({'alias': 'nunique'})"
   ]
  },
  {
   "cell_type": "markdown",
   "metadata": {},
   "source": [
    "Or with `groupby().apply()`:"
   ]
  },
  {
   "cell_type": "code",
   "execution_count": null,
   "metadata": {},
   "outputs": [],
   "source": [
    "get_num_unique_targets = lambda x: pd.Series({'num_targets': x['alias'].nunique()})\n",
    "\n",
    "(\n",
    "    df_targets.groupby(['sanction_country'])\n",
    "              .apply(get_num_unique_targets, include_groups=False)\n",
    ")"
   ]
  },
  {
   "cell_type": "code",
   "execution_count": null,
   "metadata": {},
   "outputs": [],
   "source": [
    "# Reorder the DataFrame by the number of unique targets\n",
    "(\n",
    "    df_targets.groupby(['sanction_country'])\n",
    "              .apply(get_num_unique_targets, include_groups=False)\n",
    "              .sort_values(by='num_targets', ascending=False)\n",
    ")"
   ]
  },
  {
   "cell_type": "markdown",
   "metadata": {},
   "source": [
    "The grouped DataFrame will have the `sanction_country` as the index and the number of unique targets as the values. If we want it as a regular DataFrame, we can use the `reset_index()` function."
   ]
  },
  {
   "cell_type": "code",
   "execution_count": null,
   "metadata": {},
   "outputs": [],
   "source": [
    "df_country_sanctions = (\n",
    "    df_targets.groupby(['sanction_country'])\n",
    "              .apply(get_num_unique_targets, include_groups=False)\n",
    "              .sort_values(by='num_targets', ascending=False)\n",
    "              .reset_index()\n",
    ")\n",
    "\n",
    "# Look at the top 10\n",
    "df_country_sanctions.head(10)"
   ]
  },
  {
   "cell_type": "markdown",
   "metadata": {},
   "source": [
    "## 4.2 Get nicer country names\n",
    "\n",
    "There is this nice Python package called `pycountry` that can help us get the full country names from these two-digit country codes."
   ]
  },
  {
   "cell_type": "code",
   "execution_count": 35,
   "metadata": {},
   "outputs": [],
   "source": [
    "def get_country_name(code):\n",
    "    selected_country = pycountry.countries.get(alpha_2=code)\n",
    "\n",
    "    if selected_country is None:\n",
    "        if code == 'eu':\n",
    "            return 'European Union 🇪🇺'\n",
    "        else:\n",
    "            return code\n",
    "    else:\n",
    "        return f\"{selected_country.name} {selected_country.flag}\"\n",
    "     \n",
    "# Uncomment the line below to test that the function works\n",
    "# df_country_sanctions['sanction_country'].apply(get_country_name)"
   ]
  },
  {
   "cell_type": "code",
   "execution_count": 36,
   "metadata": {},
   "outputs": [],
   "source": [
    "df_country_sanctions['sanction_country'] = df_country_sanctions['sanction_country'].apply(get_country_name)"
   ]
  },
  {
   "cell_type": "code",
   "execution_count": null,
   "metadata": {},
   "outputs": [],
   "source": [
    "df_country_sanctions.head(10)"
   ]
  },
  {
   "cell_type": "markdown",
   "metadata": {},
   "source": [
    "## 4.3 Create a bar plot"
   ]
  },
  {
   "cell_type": "code",
   "execution_count": 38,
   "metadata": {},
   "outputs": [],
   "source": [
    "# Let me further tweak the dataframe to make it easier to plot\n",
    "\n",
    "plot_df = (\n",
    "    df_country_sanctions.sort_values(by='num_targets', ascending=True)\n",
    "    .tail(10)\n",
    ")"
   ]
  },
  {
   "cell_type": "code",
   "execution_count": 40,
   "metadata": {},
   "outputs": [
    {
     "data": {
      "text/html": [
       "   <div id=\"lq5Goh\"></div>\n",
       "   <script type=\"text/javascript\" data-lets-plot-script=\"plot\">\n",
       "   \n",
       "   (function() {\n",
       "   // ----------\n",
       "   \n",
       "   var containerDiv = document.getElementById(\"lq5Goh\");\n",
       "   var observer = new ResizeObserver(function(entries) {\n",
       "       for (let entry of entries) {\n",
       "           var width = containerDiv.clientWidth\n",
       "           if (entry.contentBoxSize && width > 0) {\n",
       "           \n",
       "               // Render plot\n",
       "               if (observer) {\n",
       "                   observer.disconnect();\n",
       "                   observer = null;\n",
       "               }\n",
       "\n",
       "               var plotSpec={\n",
       "\"data\":{\n",
       "\"sanction_country\":[\"Australia 🇦🇺\",\"Canada 🇨🇦\",\"United Kingdom 🇬🇧\",\"Monaco 🇲🇨\",\"Belgium 🇧🇪\",\"France 🇫🇷\",\"Switzerland 🇨🇭\",\"European Union 🇪🇺\",\"United States 🇺🇸\",\"Ukraine 🇺🇦\"],\n",
       "\"num_targets\":[229.0,297.0,335.0,354.0,382.0,384.0,408.0,421.0,860.0,1444.0]\n",
       "},\n",
       "\"mapping\":{\n",
       "\"x\":\"num_targets\",\n",
       "\"y\":\"sanction_country\",\n",
       "\"fill\":\"num_targets\"\n",
       "},\n",
       "\"data_meta\":{\n",
       "\"series_annotations\":[{\n",
       "\"type\":\"str\",\n",
       "\"column\":\"sanction_country\"\n",
       "},{\n",
       "\"type\":\"int\",\n",
       "\"column\":\"num_targets\"\n",
       "}]\n",
       "},\n",
       "\"ggtitle\":{\n",
       "\"text\":\"Unsurprisingly, Ukraine is the country with the most sanctions\",\n",
       "\"subtitle\":\"Our sample consists of 4000 random targets so don't read too much into this\"\n",
       "},\n",
       "\"guides\":{\n",
       "\"x\":{\n",
       "\"title\":\"Number of unique targets\"\n",
       "},\n",
       "\"y\":{\n",
       "\"title\":\"Top 10 countries\"\n",
       "}\n",
       "},\n",
       "\"ggsize\":{\n",
       "\"width\":800.0,\n",
       "\"height\":300.0\n",
       "},\n",
       "\"theme\":{\n",
       "\"plot_title\":{\n",
       "\"face\":\"bold\",\n",
       "\"size\":14.0,\n",
       "\"blank\":false\n",
       "},\n",
       "\"plot_subtitle\":{\n",
       "\"size\":12.0,\n",
       "\"blank\":false\n",
       "}\n",
       "},\n",
       "\"kind\":\"plot\",\n",
       "\"scales\":[{\n",
       "\"name\":\"Number of targets\",\n",
       "\"aesthetic\":\"fill\",\n",
       "\"guide\":\"none\",\n",
       "\"low\":\"blue\",\n",
       "\"high\":\"red\",\n",
       "\"scale_mapper_kind\":\"color_gradient\"\n",
       "}],\n",
       "\"layers\":[{\n",
       "\"geom\":\"bar\",\n",
       "\"stat\":\"identity\",\n",
       "\"mapping\":{\n",
       "},\n",
       "\"data_meta\":{\n",
       "},\n",
       "\"orientation\":\"y\",\n",
       "\"data\":{\n",
       "}\n",
       "},{\n",
       "\"geom\":\"text\",\n",
       "\"mapping\":{\n",
       "\"label\":\"num_targets\"\n",
       "},\n",
       "\"data_meta\":{\n",
       "},\n",
       "\"nudge_x\":50.0,\n",
       "\"size\":6.0,\n",
       "\"data\":{\n",
       "}\n",
       "}],\n",
       "\"metainfo_list\":[],\n",
       "\"spec_id\":\"2\"\n",
       "};\n",
       "               window.letsPlotCall(function() {\n",
       "       \n",
       "               var toolbar = null;\n",
       "               var plotContainer = containerDiv;               \n",
       "               \n",
       "                   var options = {\n",
       "                       sizing: {\n",
       "                           width_mode: \"min\",\n",
       "                           height_mode: \"scaled\",\n",
       "                           width: width\n",
       "                       }\n",
       "                   };\n",
       "                   var fig = LetsPlot.buildPlotFromProcessedSpecs(plotSpec, -1, -1, plotContainer, options);\n",
       "                   if (toolbar) {\n",
       "                     toolbar.bind(fig);\n",
       "                   }\n",
       "               });\n",
       "               \n",
       "               break;\n",
       "           }\n",
       "       }\n",
       "   });\n",
       "   \n",
       "   observer.observe(containerDiv);\n",
       "   \n",
       "   // ----------\n",
       "   })();\n",
       "   \n",
       "   </script>"
      ],
      "text/plain": [
       "<lets_plot.plot.core.PlotSpec at 0x30a056750>"
      ]
     },
     "execution_count": 40,
     "metadata": {},
     "output_type": "execute_result"
    }
   ],
   "source": [
    "(\n",
    "    ggplot(plot_df,\n",
    "           aes(y='sanction_country', x='num_targets', fill= 'num_targets'))    \n",
    "    + geom_bar(stat='identity')\n",
    "    + geom_text(aes(label='num_targets'), nudge_x=50, size=6)\n",
    "    + scale_fill_gradient(name=\"Number of targets\", low='blue', high='red', guide='none')\n",
    "    # remove count and country name from the legend\n",
    "    + labs(title='Unsurprisingly, Ukraine is the country with the most sanctions', \n",
    "           subtitle='Our sample consists of 4000 random targets so don\\'t read too much into this',\n",
    "           x='Number of unique targets', y='Top 10 countries')\n",
    "    + ggsize(800, 300)\n",
    "    + theme(\n",
    "        plot_title=element_text(size=14, face='bold'),\n",
    "        plot_subtitle=element_text(size=12),\n",
    "    )\n",
    ")"
   ]
  },
  {
   "cell_type": "code",
   "execution_count": null,
   "metadata": {},
   "outputs": [],
   "source": []
  }
 ],
 "metadata": {
  "kernelspec": {
   "display_name": "base",
   "language": "python",
   "name": "python3"
  },
  "language_info": {
   "codemirror_mode": {
    "name": "ipython",
    "version": 3
   },
   "file_extension": ".py",
   "mimetype": "text/x-python",
   "name": "python",
   "nbconvert_exporter": "python",
   "pygments_lexer": "ipython3",
   "version": "3.11.5"
  }
 },
 "nbformat": 4,
 "nbformat_minor": 2
}
